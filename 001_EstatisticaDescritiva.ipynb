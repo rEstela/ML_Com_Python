{
 "cells": [
  {
   "cell_type": "markdown",
   "id": "681e0e43",
   "metadata": {},
   "source": [
    "# Nesse Notebook realizaremos alguns exercícios de Estatística Descritiva, referentes a AULA 02\n",
    "\n",
    "### Na primeira parte abordaremos medidas de tendência central e realizaremos 3 exercícios simples, executando-os usando 3 abordagens diferentes    "
   ]
  },
  {
   "cell_type": "markdown",
   "id": "d084a830",
   "metadata": {},
   "source": [
    "As três abordagens - NumPy, Pandas e Python puro - oferecem diferentes conjuntos de funcionalidades e são úteis em contextos diferentes. Aqui estão algumas das principais diferenças entre essas abordagens:\n",
    "\n",
    "    - NumPy:\n",
    "        Foco: NumPy é uma biblioteca fundamental para computação numérica em Python.\n",
    "        Objetivo: Fornece suporte para arrays multidimensionais e operações matemáticas eficientes.\n",
    "        Utilização: Especialmente útil para operações numéricas intensivas e manipulação de dados em formato de array.\n",
    "\n",
    "    - Pandas:\n",
    "        Foco: Pandas é uma biblioteca para manipulação e análise de dados tabulares.\n",
    "        Objetivo: Oferece estruturas de dados como o DataFrame, que simplifica a manipulação e análise de dados.\n",
    "        Utilização: É ideal para lidar com dados tabulares, realizar operações de limpeza, filtragem, agregação e análise estatística.\n",
    "\n",
    "    - Python puro:\n",
    "        Foco: Python puro refere-se ao uso das bibliotecas padrão da linguagem sem NumPy ou Pandas.\n",
    "        Objetivo: Oferece funcionalidades básicas e é a linguagem principal para muitas tarefas gerais.\n",
    "        Utilização: Adequado para tarefas simples e pequenos conjuntos de dados onde o uso de bibliotecas adicionais pode ser desnecessário.\n",
    "\n",
    "Diferenças Gerais:\n",
    "\n",
    "    - NumPy e Pandas são otimizados para desempenho e eficiência, especialmente ao lidar com grandes conjuntos de dados.\n",
    "    - NumPy é mais centrado em operações numéricas e matrizes, enquanto Pandas é mais voltado para manipulação de dados tabulares.\n",
    "    - Python puro é mais flexível, mas pode ser menos eficiente para operações em grande escala.\n",
    "\n",
    "Escolha Adequada:\n",
    "\n",
    "    Use NumPy para cálculos numéricos eficientes e manipulação de arrays.\n",
    "    Use Pandas para análise de dados tabulares e manipulação de DataFrames.\n",
    "    Use Python puro para tarefas simples e em casos onde a eficiência não é crítica.\n",
    "\n",
    "Na prática, muitos projetos de análise de dados e machine learning combinam o uso de NumPy e Pandas, aproveitando as vantagens de ambas as bibliotecas para diferentes partes do processo."
   ]
  },
  {
   "cell_type": "markdown",
   "id": "33617d2b",
   "metadata": {},
   "source": [
    "### Exercício 1:\n",
    "Escreva uma função em Python para calcular a média de um conjunto de números."
   ]
  },
  {
   "cell_type": "code",
   "execution_count": 1,
   "id": "438090c5",
   "metadata": {},
   "outputs": [
    {
     "name": "stdout",
     "output_type": "stream",
     "text": [
      "A média dos dados é: 20.0\n"
     ]
    }
   ],
   "source": [
    "# V1: Python puro\n",
    "def calcular_media(lista):\n",
    "    soma = sum(lista)\n",
    "    media = soma / len(lista)\n",
    "    return media\n",
    "\n",
    "# Exemplo de uso:\n",
    "dados = [10, 15, 20, 25, 30]\n",
    "media_resultante = calcular_media(dados)\n",
    "print(f\"A média dos dados é: {media_resultante}\")"
   ]
  },
  {
   "cell_type": "code",
   "execution_count": 2,
   "id": "2870d777",
   "metadata": {},
   "outputs": [
    {
     "name": "stdout",
     "output_type": "stream",
     "text": [
      "A média dos dados é: 20.0\n"
     ]
    }
   ],
   "source": [
    "# V2: Numpy\n",
    "import numpy as np\n",
    "\n",
    "def calcular_media_numpy(lista):\n",
    "    media = np.mean(lista)\n",
    "    return media\n",
    "\n",
    "# Exemplo de uso:\n",
    "dados = np.array([10, 15, 20, 25, 30])\n",
    "media_resultante = calcular_media_numpy(dados)\n",
    "print(f\"A média dos dados é: {media_resultante}\")"
   ]
  },
  {
   "cell_type": "code",
   "execution_count": 3,
   "id": "19ad2d55",
   "metadata": {},
   "outputs": [
    {
     "name": "stdout",
     "output_type": "stream",
     "text": [
      "A média dos dados é: 20.0\n"
     ]
    }
   ],
   "source": [
    "# V3: Pandas\n",
    "import pandas as pd\n",
    "\n",
    "def calcular_media_pandas(lista):\n",
    "    series = pd.Series(lista)\n",
    "    media = series.mean()\n",
    "    return media\n",
    "\n",
    "# Exemplo de uso:\n",
    "dados = [10, 15, 20, 25, 30]\n",
    "media_resultante = calcular_media_pandas(dados)\n",
    "print(f\"A média dos dados é: {media_resultante}\")"
   ]
  },
  {
   "cell_type": "markdown",
   "id": "747a29df",
   "metadata": {},
   "source": [
    "### Exercício 2:\n",
    "Crie uma função em Python para calcular a mediana de um conjunto de números."
   ]
  },
  {
   "cell_type": "code",
   "execution_count": 4,
   "id": "691c709b",
   "metadata": {},
   "outputs": [
    {
     "name": "stdout",
     "output_type": "stream",
     "text": [
      "A mediana dos dados é: 20\n"
     ]
    }
   ],
   "source": [
    "# V1: Python puro\n",
    "def calcular_mediana(lista):\n",
    "    lista_ordenada = sorted(lista)\n",
    "    tamanho = len(lista_ordenada)\n",
    "\n",
    "    if tamanho % 2 == 0:\n",
    "        mediana = (lista_ordenada[tamanho // 2 - 1] + lista_ordenada[tamanho // 2]) / 2\n",
    "    else:\n",
    "        mediana = lista_ordenada[tamanho // 2]\n",
    "\n",
    "    return mediana\n",
    "\n",
    "# Exemplo de uso:\n",
    "dados = [15, 10, 25, 30, 20]\n",
    "mediana_resultante = calcular_mediana(dados)\n",
    "print(f\"A mediana dos dados é: {mediana_resultante}\")"
   ]
  },
  {
   "cell_type": "code",
   "execution_count": 5,
   "id": "4215dfa7",
   "metadata": {},
   "outputs": [
    {
     "name": "stdout",
     "output_type": "stream",
     "text": [
      "A mediana dos dados é: 20.0\n"
     ]
    }
   ],
   "source": [
    "# V2: Numpy\n",
    "import numpy as np\n",
    "\n",
    "def calcular_mediana_numpy(lista):\n",
    "    mediana = np.median(lista)\n",
    "    return mediana\n",
    "\n",
    "# Exemplo de uso:\n",
    "dados = np.array([15, 10, 25, 30, 20])\n",
    "mediana_resultante = calcular_mediana_numpy(dados)\n",
    "print(f\"A mediana dos dados é: {mediana_resultante}\")"
   ]
  },
  {
   "cell_type": "code",
   "execution_count": 6,
   "id": "bbd0ce69",
   "metadata": {},
   "outputs": [
    {
     "name": "stdout",
     "output_type": "stream",
     "text": [
      "A mediana dos dados é: 20.0\n"
     ]
    }
   ],
   "source": [
    "# V3: Pandas\n",
    "import pandas as pd\n",
    "\n",
    "def calcular_mediana_pandas(lista):\n",
    "    series = pd.Series(lista)\n",
    "    mediana = series.median()\n",
    "    return mediana\n",
    "\n",
    "# Exemplo de uso:\n",
    "dados = [15, 10, 25, 30, 20]\n",
    "mediana_resultante = calcular_mediana_pandas(dados)\n",
    "print(f\"A mediana dos dados é: {mediana_resultante}\")"
   ]
  },
  {
   "cell_type": "markdown",
   "id": "fa6ae4fb",
   "metadata": {},
   "source": [
    "### Exercício 3\n",
    "Implemente uma função em Python para encontrar a moda de um conjunto de dados."
   ]
  },
  {
   "cell_type": "code",
   "execution_count": 7,
   "id": "a3261aea",
   "metadata": {},
   "outputs": [
    {
     "name": "stdout",
     "output_type": "stream",
     "text": [
      "A moda dos dados é: [10]\n"
     ]
    }
   ],
   "source": [
    "# V1: Python puro\n",
    "from collections import Counter\n",
    "\n",
    "def calcular_moda(lista):\n",
    "    contagem = Counter(lista)\n",
    "    moda = [k for k, v in contagem.items() if v == max(contagem.values())]\n",
    "\n",
    "    return moda\n",
    "\n",
    "# Exemplo de uso:\n",
    "dados = [10, 20, 10, 30, 20, 40, 10, 50]\n",
    "moda_resultante = calcular_moda(dados)\n",
    "print(f\"A moda dos dados é: {moda_resultante}\")"
   ]
  },
  {
   "cell_type": "code",
   "execution_count": 8,
   "id": "21ae1ce9",
   "metadata": {},
   "outputs": [
    {
     "name": "stdout",
     "output_type": "stream",
     "text": [
      "A moda dos dados é: 10\n"
     ]
    }
   ],
   "source": [
    "# V2: Numpy\n",
    "import numpy as np\n",
    "\n",
    "def calcular_moda_numpy(lista):\n",
    "    moda = np.unique(lista, return_counts=True)\n",
    "    moda_indices = np.argmax(moda[1])\n",
    "    moda_resultante = moda[0][moda_indices]\n",
    "\n",
    "    return moda_resultante\n",
    "\n",
    "# Exemplo de uso:\n",
    "dados = np.array([10, 20, 10, 30, 20, 40, 10, 50])\n",
    "moda_resultante = calcular_moda_numpy(dados)\n",
    "print(f\"A moda dos dados é: {moda_resultante}\")"
   ]
  },
  {
   "cell_type": "code",
   "execution_count": 9,
   "id": "e6ac2c1c",
   "metadata": {},
   "outputs": [
    {
     "name": "stdout",
     "output_type": "stream",
     "text": [
      "A moda dos dados é: 10\n"
     ]
    }
   ],
   "source": [
    "# V3: Pandas\n",
    "import pandas as pd\n",
    "\n",
    "def calcular_moda_pandas(lista):\n",
    "    series = pd.Series(lista)\n",
    "    moda = series.mode().iloc[0]\n",
    "    return moda\n",
    "\n",
    "# Exemplo de uso:\n",
    "dados = [10, 20, 10, 30, 20, 40, 10, 50]\n",
    "moda_resultante = calcular_moda_pandas(dados)\n",
    "print(f\"A moda dos dados é: {moda_resultante}\")"
   ]
  },
  {
   "cell_type": "markdown",
   "id": "017d58d9",
   "metadata": {},
   "source": [
    "### Na segunda parte abordaremos medidas de dispersão e realizaremos 2 exercícios simples"
   ]
  },
  {
   "cell_type": "markdown",
   "id": "06b915c0",
   "metadata": {},
   "source": [
    "### Exercício 1\n",
    "Escreva uma função em Python que utiliza NumPy para calcular o desvio padrão de um conjunto de dados."
   ]
  },
  {
   "cell_type": "code",
   "execution_count": 10,
   "id": "d10f1713",
   "metadata": {},
   "outputs": [
    {
     "name": "stdout",
     "output_type": "stream",
     "text": [
      "O desvio padrão dos dados é: 4.673328578219168\n"
     ]
    }
   ],
   "source": [
    "import numpy as np\n",
    "\n",
    "def calcular_desvio_padrao_numpy(dados):\n",
    "    desvio_padrao = np.std(dados)\n",
    "    return desvio_padrao\n",
    "\n",
    "# Exemplo de uso:\n",
    "conjunto_dados = np.array([12, 15, 18, 22, 25])\n",
    "desvio_padrao_resultante = calcular_desvio_padrao_numpy(conjunto_dados)\n",
    "print(f\"O desvio padrão dos dados é: {desvio_padrao_resultante}\")"
   ]
  },
  {
   "cell_type": "markdown",
   "id": "2430d4d1",
   "metadata": {},
   "source": [
    "### Exercício 2\n",
    "Implemente uma função em Python utilizando NumPy para calcular a variância de um conjunto de dados."
   ]
  },
  {
   "cell_type": "code",
   "execution_count": 11,
   "id": "0ad231e5",
   "metadata": {},
   "outputs": [
    {
     "name": "stdout",
     "output_type": "stream",
     "text": [
      "A variância dos dados é: 8.0\n"
     ]
    }
   ],
   "source": [
    "import numpy as np\n",
    "\n",
    "def calcular_variancia_numpy(dados):\n",
    "    variancia = np.var(dados)\n",
    "    return variancia\n",
    "\n",
    "# Exemplo de uso:\n",
    "conjunto_dados = np.array([8, 10, 12, 14, 16])\n",
    "variancia_resultante = calcular_variancia_numpy(conjunto_dados)\n",
    "print(f\"A variância dos dados é: {variancia_resultante}\")"
   ]
  },
  {
   "cell_type": "markdown",
   "id": "6695aae1",
   "metadata": {},
   "source": [
    "#### Em estatística descritiva, vários tipos de gráficos são utilizados para visualizar e resumir os padrões e características dos dados."
   ]
  },
  {
   "cell_type": "markdown",
   "id": "d1bf92e3",
   "metadata": {},
   "source": [
    "Problema:\n",
    "Crie um histograma para visualizar a distribuição de idades em uma amostra de 100 pessoas."
   ]
  },
  {
   "cell_type": "code",
   "execution_count": 12,
   "id": "d79ab3b1",
   "metadata": {},
   "outputs": [
    {
     "data": {
      "image/png": "[encoded data removed]",
      "text/plain": [
       "<Figure size 432x288 with 1 Axes>"
      ]
     },
     "metadata": {
      "needs_background": "light"
     },
     "output_type": "display_data"
    }
   ],
   "source": [
    "import matplotlib.pyplot as plt\n",
    "import numpy as np\n",
    "\n",
    "# Geração de dados de exemplo (idades)\n",
    "idades = np.random.normal(30, 10, 100) # 30=centro | 10=std | 100=qtd amostras\n",
    "\n",
    "# Criando o histograma\n",
    "plt.hist(idades, bins=20, color='blue', edgecolor='black')\n",
    "\n",
    "# Adicionando rótulos e título\n",
    "plt.title('Distribuição de Idades')\n",
    "plt.xlabel('Idade')\n",
    "plt.ylabel('Frequência')\n",
    "\n",
    "# Exibindo o histograma\n",
    "plt.show()"
   ]
  },
  {
   "cell_type": "markdown",
   "id": "adf6029c",
   "metadata": {},
   "source": [
    "Problema:\n",
    "Crie um gráfico de barras para comparar as vendas mensais de dois produtos, A e B."
   ]
  },
  {
   "cell_type": "code",
   "execution_count": 13,
   "id": "716f38c2",
   "metadata": {},
   "outputs": [
    {
     "data": {
      "image/png": "[encoded data removed]",
      "text/plain": [
       "<Figure size 432x288 with 1 Axes>"
      ]
     },
     "metadata": {
      "needs_background": "light"
     },
     "output_type": "display_data"
    }
   ],
   "source": [
    "import matplotlib.pyplot as plt\n",
    "import numpy as np\n",
    "\n",
    "# Dados de exemplo (vendas mensais em milhares)\n",
    "meses = ['Jan', 'Fev', 'Mar', 'Abr', 'Mai']\n",
    "vendas_produto_A = [20, 25, 18, 22, 30]\n",
    "vendas_produto_B = [18, 30, 15, 20, 25]\n",
    "\n",
    "# Criando o gráfico de barras\n",
    "bar_width = 0.35\n",
    "bar_positions_A = np.arange(len(meses))\n",
    "bar_positions_B = bar_positions_A + bar_width\n",
    "\n",
    "plt.bar(bar_positions_A, vendas_produto_A, width=bar_width, label='Produto A', color='blue')\n",
    "plt.bar(bar_positions_B, vendas_produto_B, width=bar_width, label='Produto B', color='orange')\n",
    "\n",
    "# Adicionando rótulos e título\n",
    "plt.xlabel('Meses')\n",
    "plt.ylabel('Vendas (milhares)')\n",
    "plt.title('Vendas Mensais - Produto A vs. Produto B')\n",
    "plt.xticks(bar_positions_A + bar_width / 2, meses)\n",
    "plt.legend()\n",
    "\n",
    "# Exibindo o gráfico de barras\n",
    "plt.show()"
   ]
  },
  {
   "cell_type": "markdown",
   "id": "a3d6d94f",
   "metadata": {},
   "source": [
    "Problema:\n",
    "Crie um diagrama de caixa para analisar a distribuição de alturas entre homens e mulheres."
   ]
  },
  {
   "cell_type": "code",
   "execution_count": 14,
   "id": "c53c1b34",
   "metadata": {},
   "outputs": [
    {
     "data": {
      "image/png": "[encoded data removed]",
      "text/plain": [
       "<Figure size 432x288 with 1 Axes>"
      ]
     },
     "metadata": {
      "needs_background": "light"
     },
     "output_type": "display_data"
    }
   ],
   "source": [
    "import seaborn as sns\n",
    "import numpy as np\n",
    "\n",
    "# Dados de exemplo (alturas em cm)\n",
    "alturas_homem = np.random.normal(175, 5, 100)\n",
    "alturas_mulher = np.random.normal(162, 4, 100)\n",
    "\n",
    "# Criando o diagrama de caixa\n",
    "sns.boxplot(x=['Homem']*100 + ['Mulher']*100, y=np.concatenate([alturas_homem, alturas_mulher]))\n",
    "\n",
    "# Adicionando rótulos e título\n",
    "plt.xlabel('Gênero')\n",
    "plt.ylabel('Altura (cm)')\n",
    "plt.title('Distribuição de Alturas - Homens vs. Mulheres')\n",
    "\n",
    "# Exibindo o diagrama de caixa\n",
    "plt.show()"
   ]
  },
  {
   "cell_type": "markdown",
   "id": "26ffbc80",
   "metadata": {},
   "source": [
    "Problema:\n",
    "Crie um gráfico de dispersão para visualizar a relação entre o tempo de estudo diário e as notas obtidas por um grupo de alunos."
   ]
  },
  {
   "cell_type": "code",
   "execution_count": 15,
   "id": "b3752485",
   "metadata": {},
   "outputs": [
    {
     "data": {
      "image/png": "[encoded data removed]",
      "text/plain": [
       "<Figure size 432x288 with 1 Axes>"
      ]
     },
     "metadata": {
      "needs_background": "light"
     },
     "output_type": "display_data"
    }
   ],
   "source": [
    "import matplotlib.pyplot as plt\n",
    "import numpy as np\n",
    "\n",
    "# Dados de exemplo (tempo de estudo em horas e notas obtidas)\n",
    "tempo_estudo = np.random.uniform(1, 5, 50)\n",
    "notas = 60 + 10 * tempo_estudo + np.random.normal(0, 5, 50)\n",
    "\n",
    "# Criando o gráfico de dispersão\n",
    "plt.scatter(tempo_estudo, notas, color='green', alpha=0.7)\n",
    "\n",
    "# Adicionando rótulos e título\n",
    "plt.xlabel('Tempo de Estudo Diário (horas)')\n",
    "plt.ylabel('Notas Obtidas')\n",
    "plt.title('Relação entre Tempo de Estudo e Notas')\n",
    "\n",
    "# Exibindo o gráfico de dispersão\n",
    "plt.show()"
   ]
  },
  {
   "cell_type": "markdown",
   "id": "9443b5af",
   "metadata": {},
   "source": [
    "Problema:\n",
    "Crie um gráfico de linhas para visualizar a evolução das vendas mensais ao longo de um ano para dois produtos, A e B."
   ]
  },
  {
   "cell_type": "code",
   "execution_count": 16,
   "id": "a22e0fca",
   "metadata": {},
   "outputs": [
    {
     "data": {
      "image/png": "[encoded data removed]",
      "text/plain": [
       "<Figure size 432x288 with 1 Axes>"
      ]
     },
     "metadata": {
      "needs_background": "light"
     },
     "output_type": "display_data"
    }
   ],
   "source": [
    "import matplotlib.pyplot as plt\n",
    "import numpy as np\n",
    "\n",
    "# Dados de exemplo (vendas mensais em milhares)\n",
    "meses = ['Jan', 'Fev', 'Mar', 'Abr', 'Mai', 'Jun', 'Jul', 'Ago', 'Set', 'Out', 'Nov', 'Dez']\n",
    "vendas_produto_A = np.random.normal(25, 5, 12)\n",
    "vendas_produto_B = np.random.normal(18, 4, 12)\n",
    "\n",
    "# Criando o gráfico de linhas\n",
    "plt.plot(meses, vendas_produto_A, marker='o', label='Produto A', color='blue')\n",
    "plt.plot(meses, vendas_produto_B, marker='s', label='Produto B', color='green')\n",
    "\n",
    "# Adicionando rótulos e título\n",
    "plt.xlabel('Meses')\n",
    "plt.ylabel('Vendas (milhares)')\n",
    "plt.title('Evolução Mensal de Vendas - Produto A vs. Produto B')\n",
    "plt.legend()\n",
    "\n",
    "# Exibindo o gráfico de linhas\n",
    "plt.show()"
   ]
  }
 ],
 "metadata": {
  "kernelspec": {
   "display_name": "Python 3 (ipykernel)",
   "language": "python",
   "name": "python3"
  },
  "language_info": {
   "codemirror_mode": {
    "name": "ipython",
    "version": 3
   },
   "file_extension": ".py",
   "mimetype": "text/x-python",
   "name": "python",
   "nbconvert_exporter": "python",
   "pygments_lexer": "ipython3",
   "version": "3.9.7"
  }
 },
 "nbformat": 4,
 "nbformat_minor": 5
}
