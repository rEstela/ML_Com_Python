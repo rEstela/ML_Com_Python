{
 "cells": [
  {
   "cell_type": "markdown",
   "id": "0264dc95",
   "metadata": {},
   "source": [
    "## K-FOLD\n",
    "\n",
    "Abaixo está um exemplo básico de como você pode implementar a validação cruzada K-Fold em Python usando a biblioteca scikit-learn.\n",
    "\n",
    "Neste exemplo:\n",
    "\n",
    "    X é o conjunto de características.\n",
    "    y é o vetor de rótulos.\n",
    "    n_folds é o número de folds desejado.\n",
    "    KFold é usado para dividir o conjunto de dados.\n",
    "    Um modelo de regressão logística é treinado em cada fold.\n",
    "    A acurácia é calculada para cada fold, e a média é exibida no final.\n",
    "\n",
    "Lembre-se de que este é um exemplo simples, e você pode substituir o modelo e o conjunto de dados pelos que estão sendo usados no seu caso específico."
   ]
  },
  {
   "cell_type": "code",
   "execution_count": 6,
   "id": "c36567c3",
   "metadata": {},
   "outputs": [
    {
     "name": "stdout",
     "output_type": "stream",
     "text": [
      "Acurácia média usando 3-fold: 0.7777777777777777\n",
      "Desvio Padrão usando 3-fold: 0.15713484026367724\n"
     ]
    }
   ],
   "source": [
    "from sklearn.model_selection import KFold\n",
    "from sklearn.linear_model import LogisticRegression\n",
    "from sklearn.metrics import accuracy_score\n",
    "import numpy as np\n",
    "\n",
    "# Exemplo de conjunto de dados fictício\n",
    "X = np.array([[0, 2], [3, 5], [4, 6], [7, 9], [2, 4], [2, 6], [3, 9], [5, 7], [3, 7]])\n",
    "y = np.array([0, 1, 0, 1, 0, 0, 1, 1, 1])\n",
    "\n",
    "# Número de folds (K)\n",
    "n_folds = 3\n",
    "\n",
    "# Inicializa o objeto KFold\n",
    "kf = KFold(n_splits=n_folds, shuffle=True, random_state=42)\n",
    "\n",
    "# Inicializa um modelo (pode ser qualquer modelo de sua escolha)\n",
    "model = LogisticRegression()\n",
    "\n",
    "# Lista para armazenar as métricas de desempenho\n",
    "accuracy_scores = []\n",
    "\n",
    "# Loop sobre os folds\n",
    "for train_index, test_index in kf.split(X):\n",
    "    # Divisão dos dados\n",
    "    X_train, X_test = X[train_index], X[test_index]\n",
    "    y_train, y_test = y[train_index], y[test_index]\n",
    "\n",
    "    # Treina o modelo\n",
    "    model.fit(X_train, y_train)\n",
    "\n",
    "    # Realiza previsões no conjunto de teste\n",
    "    predictions = model.predict(X_test)\n",
    "\n",
    "    # Calcula a acurácia e armazena\n",
    "    accuracy = accuracy_score(y_test, predictions)\n",
    "    accuracy_scores.append(accuracy)\n",
    "\n",
    "# Calcula a média das acurácias\n",
    "average_accuracy = np.mean(accuracy_scores)\n",
    "std_accuracy = np.std(accuracy_scores)\n",
    "\n",
    "print(f'Acurácia média usando {n_folds}-fold: {average_accuracy}')\n",
    "print(f'Desvio Padrão usando {n_folds}-fold: {std_accuracy}')"
   ]
  },
  {
   "cell_type": "markdown",
   "id": "52c29088",
   "metadata": {},
   "source": [
    "## Leave-One-Out\n",
    "Aqui está um exemplo básico de como implementar a validação cruzada Leave-One-Out (LOO) em Python usando a biblioteca scikit-learn.\n",
    "\n",
    "Neste exemplo:\n",
    "\n",
    "    X é o conjunto de características.\n",
    "    y é o vetor de rótulos.\n",
    "    LeaveOneOut é usado para criar conjuntos de treino/teste com apenas uma instância no conjunto de teste em cada iteração.\n",
    "    Um modelo de regressão logística é treinado em cada iteração.\n",
    "    A acurácia é calculada para cada iteração, e a média é exibida no final.\n",
    "\n",
    "Lembre-se de que o LOO pode ser computacionalmente caro para conjuntos de dados grandes, pois exige treinamento e avaliação do modelo para cada instância no conjunto de dados."
   ]
  },
  {
   "cell_type": "code",
   "execution_count": 7,
   "id": "92cc8fe2",
   "metadata": {},
   "outputs": [
    {
     "name": "stdout",
     "output_type": "stream",
     "text": [
      "Acurácia média usando Leave-One-Out: 0.6666666666666666\n",
      "Acurácia média usando Leave-One-Out: 0.4714045207910317\n"
     ]
    }
   ],
   "source": [
    "from sklearn.model_selection import LeaveOneOut\n",
    "from sklearn.linear_model import LogisticRegression\n",
    "from sklearn.metrics import accuracy_score\n",
    "import numpy as np\n",
    "\n",
    "# Exemplo de conjunto de dados fictício\n",
    "X = np.array([[0, 2], [3, 5], [4, 6], [7, 9], [2, 4], [2, 6], [3, 9], [5, 7], [3, 7]])\n",
    "y = np.array([0, 1, 0, 1, 0, 0, 1, 1, 1])\n",
    "\n",
    "# Inicializa o objeto LeaveOneOut\n",
    "loo = LeaveOneOut()\n",
    "\n",
    "# Inicializa um modelo (pode ser qualquer modelo de sua escolha)\n",
    "model = LogisticRegression()\n",
    "\n",
    "# Lista para armazenar as métricas de desempenho\n",
    "accuracy_scores = []\n",
    "\n",
    "# Loop sobre os folds\n",
    "for train_index, test_index in loo.split(X):\n",
    "    # Divisão dos dados\n",
    "    X_train, X_test = X[train_index], X[test_index]\n",
    "    y_train, y_test = y[train_index], y[test_index]\n",
    "\n",
    "    # Treina o modelo\n",
    "    model.fit(X_train, y_train)\n",
    "\n",
    "    # Realiza previsões no conjunto de teste\n",
    "    predictions = model.predict(X_test)\n",
    "\n",
    "    # Calcula a acurácia e armazena\n",
    "    accuracy = accuracy_score(y_test, predictions)\n",
    "    accuracy_scores.append(accuracy)\n",
    "\n",
    "# Calcula a média das acurácias\n",
    "average_accuracy = np.mean(accuracy_scores)\n",
    "std_accuracy = np.std(accuracy_scores)\n",
    "\n",
    "print(f'Acurácia média usando Leave-One-Out: {average_accuracy}')\n",
    "print(f'Acurácia média usando Leave-One-Out: {std_accuracy}')"
   ]
  },
  {
   "cell_type": "code",
   "execution_count": null,
   "id": "bf899d97",
   "metadata": {},
   "outputs": [],
   "source": [
    "## Stratified K-fold\n",
    "\n",
    "Aqui está um exemplo básico de como implementar a validação cruzada Stratified K-Fold em Python usando a biblioteca scikit-learn\n"
   ]
  }
 ],
 "metadata": {
  "kernelspec": {
   "display_name": "Python 3 (ipykernel)",
   "language": "python",
   "name": "python3"
  },
  "language_info": {
   "codemirror_mode": {
    "name": "ipython",
    "version": 3
   },
   "file_extension": ".py",
   "mimetype": "text/x-python",
   "name": "python",
   "nbconvert_exporter": "python",
   "pygments_lexer": "ipython3",
   "version": "3.9.7"
  }
 },
 "nbformat": 4,
 "nbformat_minor": 5
}
