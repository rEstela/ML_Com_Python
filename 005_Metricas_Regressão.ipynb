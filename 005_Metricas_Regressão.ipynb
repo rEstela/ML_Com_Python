{
 "cells": [
  {
   "cell_type": "markdown",
   "id": "c82519c5",
   "metadata": {},
   "source": [
    "### MAE"
   ]
  },
  {
   "cell_type": "code",
   "execution_count": 1,
   "id": "aea07d37",
   "metadata": {},
   "outputs": [
    {
     "name": "stdout",
     "output_type": "stream",
     "text": [
      "Erro Médio Absoluto (MAE): 0.4\n"
     ]
    }
   ],
   "source": [
    "from sklearn.metrics import mean_absolute_error\n",
    "\n",
    "y_true_regression = [2.5, 3.0, 1.5, 4.0, 2.0]\n",
    "y_pred_regression = [2.0, 2.5, 1.8, 3.5, 2.2]\n",
    "\n",
    "mae = mean_absolute_error(y_true_regression, y_pred_regression)\n",
    "print(f'Erro Médio Absoluto (MAE): {mae}')"
   ]
  },
  {
   "cell_type": "markdown",
   "id": "83622728",
   "metadata": {},
   "source": [
    "### MSE / RMSE"
   ]
  },
  {
   "cell_type": "code",
   "execution_count": 2,
   "id": "21d797ab",
   "metadata": {},
   "outputs": [
    {
     "name": "stdout",
     "output_type": "stream",
     "text": [
      "Erro Quadrático Médio (MSE): 0.17600000000000002\n",
      "Raiz do Erro Quadrático Médio (RMSE): 0.41952353926806063\n"
     ]
    }
   ],
   "source": [
    "from sklearn.metrics import mean_squared_error\n",
    "\n",
    "mse = mean_squared_error(y_true_regression, y_pred_regression)\n",
    "rmse = mean_squared_error(y_true_regression, y_pred_regression, squared=False)\n",
    "\n",
    "print(f'Erro Quadrático Médio (MSE): {mse}')\n",
    "print(f'Raiz do Erro Quadrático Médio (RMSE): {rmse}')"
   ]
  },
  {
   "cell_type": "markdown",
   "id": "6a0857d8",
   "metadata": {},
   "source": [
    "### R2"
   ]
  },
  {
   "cell_type": "code",
   "execution_count": 3,
   "id": "32209946",
   "metadata": {},
   "outputs": [
    {
     "name": "stdout",
     "output_type": "stream",
     "text": [
      "Coeficiente de Determinação (R²): 0.7621621621621621\n"
     ]
    }
   ],
   "source": [
    "from sklearn.metrics import r2_score\n",
    "\n",
    "r2 = r2_score(y_true_regression, y_pred_regression)\n",
    "print(f'Coeficiente de Determinação (R²): {r2}')"
   ]
  },
  {
   "cell_type": "markdown",
   "id": "9d28c712",
   "metadata": {},
   "source": [
    "### Gráfico de Dispersão"
   ]
  },
  {
   "cell_type": "code",
   "execution_count": 4,
   "id": "bee1cbf9",
   "metadata": {},
   "outputs": [
    {
     "data": {
      "image/png": "[encoded data removed]",
      "text/plain": [
       "<Figure size 432x288 with 1 Axes>"
      ]
     },
     "metadata": {
      "needs_background": "light"
     },
     "output_type": "display_data"
    }
   ],
   "source": [
    "import matplotlib.pyplot as plt\n",
    "\n",
    "plt.scatter(y_true_regression, y_pred_regression)\n",
    "plt.xlabel('Valores Reais')\n",
    "plt.ylabel('Valores Previstos')\n",
    "plt.title('Gráfico de Dispersão: Valores Reais vs. Previstos')\n",
    "plt.show()"
   ]
  },
  {
   "cell_type": "code",
   "execution_count": null,
   "id": "ebc850f9",
   "metadata": {},
   "outputs": [],
   "source": []
  }
 ],
 "metadata": {
  "kernelspec": {
   "display_name": "Python 3 (ipykernel)",
   "language": "python",
   "name": "python3"
  },
  "language_info": {
   "codemirror_mode": {
    "name": "ipython",
    "version": 3
   },
   "file_extension": ".py",
   "mimetype": "text/x-python",
   "name": "python",
   "nbconvert_exporter": "python",
   "pygments_lexer": "ipython3",
   "version": "3.9.7"
  }
 },
 "nbformat": 4,
 "nbformat_minor": 5
}
