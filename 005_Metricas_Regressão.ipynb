{
 "cells": [
  {
   "cell_type": "markdown",
   "id": "c82519c5",
   "metadata": {},
   "source": [
    "### MAE"
   ]
  },
  {
   "cell_type": "code",
   "execution_count": 1,
   "id": "aea07d37",
   "metadata": {},
   "outputs": [
    {
     "name": "stdout",
     "output_type": "stream",
     "text": [
      "Erro Médio Absoluto (MAE): 0.4\n"
     ]
    }
   ],
   "source": [
    "from sklearn.metrics import mean_absolute_error\n",
    "\n",
    "y_true_regression = [2.5, 3.0, 1.5, 4.0, 2.0]\n",
    "y_pred_regression = [2.0, 2.5, 1.8, 3.5, 2.2]\n",
    "\n",
    "mae = mean_absolute_error(y_true_regression, y_pred_regression)\n",
    "print(f'Erro Médio Absoluto (MAE): {mae}')"
   ]
  },
  {
   "cell_type": "markdown",
   "id": "83622728",
   "metadata": {},
   "source": [
    "### MSE / RMSE"
   ]
  },
  {
   "cell_type": "code",
   "execution_count": 2,
   "id": "21d797ab",
   "metadata": {},
   "outputs": [
    {
     "name": "stdout",
     "output_type": "stream",
     "text": [
      "Erro Quadrático Médio (MSE): 0.17600000000000002\n",
      "Raiz do Erro Quadrático Médio (RMSE): 0.41952353926806063\n"
     ]
    }
   ],
   "source": [
    "from sklearn.metrics import mean_squared_error\n",
    "\n",
    "mse = mean_squared_error(y_true_regression, y_pred_regression)\n",
    "rmse = mean_squared_error(y_true_regression, y_pred_regression, squared=False)\n",
    "\n",
    "print(f'Erro Quadrático Médio (MSE): {mse}')\n",
    "print(f'Raiz do Erro Quadrático Médio (RMSE): {rmse}')"
   ]
  },
  {
   "cell_type": "markdown",
   "id": "6a0857d8",
   "metadata": {},
   "source": [
    "### R2"
   ]
  },
  {
   "cell_type": "code",
   "execution_count": 3,
   "id": "32209946",
   "metadata": {},
   "outputs": [
    {
     "name": "stdout",
     "output_type": "stream",
     "text": [
      "Coeficiente de Determinação (R²): 0.7621621621621621\n"
     ]
    }
   ],
   "source": [
    "from sklearn.metrics import r2_score\n",
    "\n",
    "r2 = r2_score(y_true_regression, y_pred_regression)\n",
    "print(f'Coeficiente de Determinação (R²): {r2}')"
   ]
  },
  {
   "cell_type": "markdown",
   "id": "9d28c712",
   "metadata": {},
   "source": [
    "### Gráfico de Dispersão"
   ]
  },
  {
   "cell_type": "code",
   "execution_count": 4,
   "id": "bee1cbf9",
   "metadata": {},
   "outputs": [
    {
     "data": {
      "image/png": "[encoded data removed]",
      "text/plain": [
       "<Figure size 432x288 with 1 Axes>"
      ]
     },
     "metadata": {
      "needs_background": "light"
     },
     "output_type": "display_data"
    }
   ],
   "source": [
    "import matplotlib.pyplot as plt\n",
    "\n",
    "plt.scatter(y_true_regression, y_pred_regression)\n",
    "plt.xlabel('Valores Reais')\n",
    "plt.ylabel('Valores Previstos')\n",
    "plt.title('Gráfico de Dispersão: Valores Reais vs. Previstos')\n",
    "plt.show()"
   ]
  },
  {
   "cell_type": "markdown",
   "id": "5a68a843",
   "metadata": {},
   "source": [
    "# EXEMPLO NO DATASET DIABETES"
   ]
  },
  {
   "cell_type": "code",
   "execution_count": 6,
   "id": "258c8d7b",
   "metadata": {},
   "outputs": [
    {
     "name": "stdout",
     "output_type": "stream",
     "text": [
      "MAE (Mean Absolute Error): 42.79\n",
      "MSE (Mean Squared Error): 2900.19\n",
      "RMSE (Root Mean Squared Error): 53.85\n",
      "R2 Score: 0.45\n"
     ]
    },
    {
     "data": {
      "image/png": "[encoded data removed]",
      "text/plain": [
       "<Figure size 432x288 with 1 Axes>"
      ]
     },
     "metadata": {
      "needs_background": "light"
     },
     "output_type": "display_data"
    }
   ],
   "source": [
    "# Importando bibliotecas\n",
    "import numpy as np\n",
    "import matplotlib.pyplot as plt\n",
    "from sklearn.model_selection import train_test_split\n",
    "from sklearn.linear_model import LinearRegression\n",
    "from sklearn.metrics import mean_absolute_error, mean_squared_error, r2_score\n",
    "from sklearn.datasets import load_diabetes\n",
    "\n",
    "# Carregando o conjunto de dados Diabetes\n",
    "diabetes = load_diabetes()\n",
    "X, y = diabetes.data, diabetes.target\n",
    "\n",
    "# Dividindo o conjunto de dados em treino e teste\n",
    "X_train, X_test, y_train, y_test = train_test_split(X, y, test_size=0.2, random_state=42)\n",
    "\n",
    "# Criando e treinando um modelo de regressão linear\n",
    "reg_model = LinearRegression()\n",
    "reg_model.fit(X_train, y_train)\n",
    "\n",
    "# Realizando previsões no conjunto de teste\n",
    "y_pred = reg_model.predict(X_test)\n",
    "\n",
    "# Calculando métricas de avaliação\n",
    "mae = mean_absolute_error(y_test, y_pred)\n",
    "mse = mean_squared_error(y_test, y_pred)\n",
    "rmse = np.sqrt(mse)\n",
    "r2 = r2_score(y_test, y_pred)\n",
    "\n",
    "# Imprimindo as métricas\n",
    "print(f'MAE (Mean Absolute Error): {mae:.2f}')\n",
    "print(f'MSE (Mean Squared Error): {mse:.2f}')\n",
    "print(f'RMSE (Root Mean Squared Error): {rmse:.2f}')\n",
    "print(f'R2 Score: {r2:.2f}')\n",
    "\n",
    "# Plotando o gráfico de dispersão\n",
    "plt.scatter(y_test, y_pred)\n",
    "plt.xlabel('Valores Reais')\n",
    "plt.ylabel('Valores Previstos')\n",
    "plt.title('Gráfico de Dispersão')\n",
    "plt.show()\n"
   ]
  },
  {
   "cell_type": "code",
   "execution_count": null,
   "id": "21022f74",
   "metadata": {},
   "outputs": [],
   "source": []
  }
 ],
 "metadata": {
  "kernelspec": {
   "display_name": "Python 3 (ipykernel)",
   "language": "python",
   "name": "python3"
  },
  "language_info": {
   "codemirror_mode": {
    "name": "ipython",
    "version": 3
   },
   "file_extension": ".py",
   "mimetype": "text/x-python",
   "name": "python",
   "nbconvert_exporter": "python",
   "pygments_lexer": "ipython3",
   "version": "3.9.7"
  }
 },
 "nbformat": 4,
 "nbformat_minor": 5
}
